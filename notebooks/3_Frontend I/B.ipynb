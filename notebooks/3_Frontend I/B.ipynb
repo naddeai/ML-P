{
 "cells": [
  {
   "attachments": {},
   "cell_type": "markdown",
   "id": "5134d1cc",
   "metadata": {},
   "source": [
    "# Simulate app form prediction process"
   ]
  },
  {
   "attachments": {},
   "cell_type": "markdown",
   "id": "380ecbe3",
   "metadata": {},
   "source": [
    "## Load pipeline artifact"
   ]
  },
  {
   "cell_type": "code",
   "execution_count": 16,
   "id": "05af2f5a",
   "metadata": {
    "execution": {
     "iopub.execute_input": "2024-05-10T12:10:24.427542Z",
     "iopub.status.busy": "2024-05-10T12:10:24.427382Z",
     "iopub.status.idle": "2024-05-10T12:10:24.717380Z",
     "shell.execute_reply": "2024-05-10T12:10:24.716981Z"
    },
    "papermill": {
     "duration": 0.292911,
     "end_time": "2024-05-10T12:10:24.718385",
     "exception": false,
     "start_time": "2024-05-10T12:10:24.425474",
     "status": "completed"
    },
    "tags": []
   },
   "outputs": [],
   "source": [
    "import pickle\n",
    "\n",
    "path = '../../artifacts/pipeline_mpg.pkl'\n",
    "\n",
    "with open(path, 'rb') as file:\n",
    "    pipeline = pickle.load(file)"
   ]
  },
  {
   "cell_type": "code",
   "execution_count": 17,
   "id": "631c2db9",
   "metadata": {
    "execution": {
     "iopub.execute_input": "2024-05-10T12:10:24.720830Z",
     "iopub.status.busy": "2024-05-10T12:10:24.720647Z",
     "iopub.status.idle": "2024-05-10T12:10:24.723949Z",
     "shell.execute_reply": "2024-05-10T12:10:24.723702Z"
    },
    "papermill": {
     "duration": 0.005305,
     "end_time": "2024-05-10T12:10:24.724701",
     "exception": false,
     "start_time": "2024-05-10T12:10:24.719396",
     "status": "completed"
    },
    "tags": []
   },
   "outputs": [
    {
     "data": {
      "text/plain": [
       "array(['cylinders', 'displacement', 'horsepower', 'weight',\n",
       "       'acceleration', 'model_year', 'origin'], dtype=object)"
      ]
     },
     "execution_count": 17,
     "metadata": {},
     "output_type": "execute_result"
    }
   ],
   "source": [
    "pipeline.feature_names_in_"
   ]
  },
  {
   "attachments": {},
   "cell_type": "markdown",
   "id": "1bc662fe",
   "metadata": {},
   "source": [
    "## Estructure categorical data options"
   ]
  },
  {
   "cell_type": "markdown",
   "id": "dbd41fce",
   "metadata": {},
   "source": [
    "### Feature names and categories"
   ]
  },
  {
   "cell_type": "code",
   "execution_count": 18,
   "id": "36064a3f",
   "metadata": {
    "execution": {
     "iopub.execute_input": "2024-05-10T12:10:24.726326Z",
     "iopub.status.busy": "2024-05-10T12:10:24.726220Z",
     "iopub.status.idle": "2024-05-10T12:10:24.727918Z",
     "shell.execute_reply": "2024-05-10T12:10:24.727719Z"
    },
    "papermill": {
     "duration": 0.003218,
     "end_time": "2024-05-10T12:10:24.728562",
     "exception": false,
     "start_time": "2024-05-10T12:10:24.725344",
     "status": "completed"
    },
    "tags": []
   },
   "outputs": [],
   "source": [
    "processor = pipeline.steps[0][1]\n",
    "encoder = processor.transformers_[0][1]\n",
    "\n",
    "feature_names = encoder.feature_names_in_\n",
    "feature_categories = encoder.categories_"
   ]
  },
  {
   "cell_type": "code",
   "execution_count": 19,
   "id": "5b7e51e2",
   "metadata": {},
   "outputs": [
    {
     "data": {
      "text/plain": [
       "array(['cylinders', 'origin'], dtype=object)"
      ]
     },
     "execution_count": 19,
     "metadata": {},
     "output_type": "execute_result"
    }
   ],
   "source": [
    "feature_names"
   ]
  },
  {
   "cell_type": "code",
   "execution_count": 20,
   "id": "efca8cf1",
   "metadata": {},
   "outputs": [
    {
     "data": {
      "text/plain": [
       "[array(['3', '4', '5', '6', '8'], dtype=object),\n",
       " array(['europe', 'japan', 'usa'], dtype=object)]"
      ]
     },
     "execution_count": 20,
     "metadata": {},
     "output_type": "execute_result"
    }
   ],
   "source": [
    "feature_categories"
   ]
  },
  {
   "cell_type": "code",
   "execution_count": 21,
   "id": "08b47251",
   "metadata": {
    "execution": {
     "iopub.execute_input": "2024-05-10T12:10:24.729997Z",
     "iopub.status.busy": "2024-05-10T12:10:24.729907Z",
     "iopub.status.idle": "2024-05-10T12:10:24.732005Z",
     "shell.execute_reply": "2024-05-10T12:10:24.731838Z"
    },
    "papermill": {
     "duration": 0.003534,
     "end_time": "2024-05-10T12:10:24.732624",
     "exception": false,
     "start_time": "2024-05-10T12:10:24.729090",
     "status": "completed"
    },
    "tags": []
   },
   "outputs": [
    {
     "data": {
      "text/plain": [
       "{'cylinders': ['3', '4', '5', '6', '8'], 'origin': ['europe', 'japan', 'usa']}"
      ]
     },
     "execution_count": 21,
     "metadata": {},
     "output_type": "execute_result"
    }
   ],
   "source": [
    "options = {}\n",
    "for feature, categories in zip(feature_names, feature_categories):\n",
    "    options[feature] = categories.tolist()\n",
    "\n",
    "options"
   ]
  },
  {
   "attachments": {},
   "cell_type": "markdown",
   "id": "c57eb46b",
   "metadata": {},
   "source": [
    "### Export options to file"
   ]
  },
  {
   "cell_type": "code",
   "execution_count": 22,
   "id": "55f891ff",
   "metadata": {
    "execution": {
     "iopub.execute_input": "2024-05-10T12:10:24.738206Z",
     "iopub.status.busy": "2024-05-10T12:10:24.738117Z",
     "iopub.status.idle": "2024-05-10T12:10:24.739854Z",
     "shell.execute_reply": "2024-05-10T12:10:24.739686Z"
    },
    "papermill": {
     "duration": 0.003434,
     "end_time": "2024-05-10T12:10:24.740486",
     "exception": false,
     "start_time": "2024-05-10T12:10:24.737052",
     "status": "completed"
    },
    "tags": []
   },
   "outputs": [],
   "source": [
    "import json\n",
    "\n",
    "with open('../../artifacts/options_categorical.json', 'w') as file:\n",
    "    json.dump(options, file, indent=4)"
   ]
  },
  {
   "cell_type": "markdown",
   "id": "5df91767",
   "metadata": {},
   "source": [
    "## Estructure numerical data options"
   ]
  },
  {
   "cell_type": "markdown",
   "id": "d0dee132",
   "metadata": {},
   "source": [
    "### Feature names"
   ]
  },
  {
   "cell_type": "code",
   "execution_count": 23,
   "id": "1a8c03ef",
   "metadata": {},
   "outputs": [
    {
     "data": {
      "text/plain": [
       "['displacement', 'horsepower', 'weight', 'acceleration', 'model_year']"
      ]
     },
     "execution_count": 23,
     "metadata": {},
     "output_type": "execute_result"
    }
   ],
   "source": [
    "processor = pipeline.steps[0][1]\n",
    "encoder = processor.transformers_[1][1]\n",
    "\n",
    "feature_names = encoder.feature_names_in_.tolist()\n",
    "feature_names"
   ]
  },
  {
   "cell_type": "markdown",
   "id": "fbb9a405",
   "metadata": {},
   "source": [
    "### Average value by default"
   ]
  },
  {
   "cell_type": "code",
   "execution_count": 24,
   "id": "39e8d7cf",
   "metadata": {},
   "outputs": [
    {
     "data": {
      "text/html": [
       "<div>\n",
       "<style scoped>\n",
       "    .dataframe tbody tr th:only-of-type {\n",
       "        vertical-align: middle;\n",
       "    }\n",
       "\n",
       "    .dataframe tbody tr th {\n",
       "        vertical-align: top;\n",
       "    }\n",
       "\n",
       "    .dataframe thead th {\n",
       "        text-align: right;\n",
       "    }\n",
       "</style>\n",
       "<table border=\"1\" class=\"dataframe\">\n",
       "  <thead>\n",
       "    <tr style=\"text-align: right;\">\n",
       "      <th></th>\n",
       "      <th>mpg</th>\n",
       "      <th>cylinders</th>\n",
       "      <th>displacement</th>\n",
       "      <th>horsepower</th>\n",
       "      <th>weight</th>\n",
       "      <th>acceleration</th>\n",
       "      <th>model_year</th>\n",
       "      <th>origin</th>\n",
       "    </tr>\n",
       "    <tr>\n",
       "      <th>name</th>\n",
       "      <th></th>\n",
       "      <th></th>\n",
       "      <th></th>\n",
       "      <th></th>\n",
       "      <th></th>\n",
       "      <th></th>\n",
       "      <th></th>\n",
       "      <th></th>\n",
       "    </tr>\n",
       "  </thead>\n",
       "  <tbody>\n",
       "    <tr>\n",
       "      <th>chevrolet chevelle malibu</th>\n",
       "      <td>18.0</td>\n",
       "      <td>8</td>\n",
       "      <td>307.0</td>\n",
       "      <td>130.0</td>\n",
       "      <td>3504</td>\n",
       "      <td>12.0</td>\n",
       "      <td>70</td>\n",
       "      <td>usa</td>\n",
       "    </tr>\n",
       "    <tr>\n",
       "      <th>buick skylark 320</th>\n",
       "      <td>15.0</td>\n",
       "      <td>8</td>\n",
       "      <td>350.0</td>\n",
       "      <td>165.0</td>\n",
       "      <td>3693</td>\n",
       "      <td>11.5</td>\n",
       "      <td>70</td>\n",
       "      <td>usa</td>\n",
       "    </tr>\n",
       "    <tr>\n",
       "      <th>plymouth satellite</th>\n",
       "      <td>18.0</td>\n",
       "      <td>8</td>\n",
       "      <td>318.0</td>\n",
       "      <td>150.0</td>\n",
       "      <td>3436</td>\n",
       "      <td>11.0</td>\n",
       "      <td>70</td>\n",
       "      <td>usa</td>\n",
       "    </tr>\n",
       "    <tr>\n",
       "      <th>amc rebel sst</th>\n",
       "      <td>16.0</td>\n",
       "      <td>8</td>\n",
       "      <td>304.0</td>\n",
       "      <td>150.0</td>\n",
       "      <td>3433</td>\n",
       "      <td>12.0</td>\n",
       "      <td>70</td>\n",
       "      <td>usa</td>\n",
       "    </tr>\n",
       "    <tr>\n",
       "      <th>ford torino</th>\n",
       "      <td>17.0</td>\n",
       "      <td>8</td>\n",
       "      <td>302.0</td>\n",
       "      <td>140.0</td>\n",
       "      <td>3449</td>\n",
       "      <td>10.5</td>\n",
       "      <td>70</td>\n",
       "      <td>usa</td>\n",
       "    </tr>\n",
       "    <tr>\n",
       "      <th>...</th>\n",
       "      <td>...</td>\n",
       "      <td>...</td>\n",
       "      <td>...</td>\n",
       "      <td>...</td>\n",
       "      <td>...</td>\n",
       "      <td>...</td>\n",
       "      <td>...</td>\n",
       "      <td>...</td>\n",
       "    </tr>\n",
       "    <tr>\n",
       "      <th>ford mustang gl</th>\n",
       "      <td>27.0</td>\n",
       "      <td>4</td>\n",
       "      <td>140.0</td>\n",
       "      <td>86.0</td>\n",
       "      <td>2790</td>\n",
       "      <td>15.6</td>\n",
       "      <td>82</td>\n",
       "      <td>usa</td>\n",
       "    </tr>\n",
       "    <tr>\n",
       "      <th>vw pickup</th>\n",
       "      <td>44.0</td>\n",
       "      <td>4</td>\n",
       "      <td>97.0</td>\n",
       "      <td>52.0</td>\n",
       "      <td>2130</td>\n",
       "      <td>24.6</td>\n",
       "      <td>82</td>\n",
       "      <td>europe</td>\n",
       "    </tr>\n",
       "    <tr>\n",
       "      <th>dodge rampage</th>\n",
       "      <td>32.0</td>\n",
       "      <td>4</td>\n",
       "      <td>135.0</td>\n",
       "      <td>84.0</td>\n",
       "      <td>2295</td>\n",
       "      <td>11.6</td>\n",
       "      <td>82</td>\n",
       "      <td>usa</td>\n",
       "    </tr>\n",
       "    <tr>\n",
       "      <th>ford ranger</th>\n",
       "      <td>28.0</td>\n",
       "      <td>4</td>\n",
       "      <td>120.0</td>\n",
       "      <td>79.0</td>\n",
       "      <td>2625</td>\n",
       "      <td>18.6</td>\n",
       "      <td>82</td>\n",
       "      <td>usa</td>\n",
       "    </tr>\n",
       "    <tr>\n",
       "      <th>chevy s-10</th>\n",
       "      <td>31.0</td>\n",
       "      <td>4</td>\n",
       "      <td>119.0</td>\n",
       "      <td>82.0</td>\n",
       "      <td>2720</td>\n",
       "      <td>19.4</td>\n",
       "      <td>82</td>\n",
       "      <td>usa</td>\n",
       "    </tr>\n",
       "  </tbody>\n",
       "</table>\n",
       "<p>392 rows × 8 columns</p>\n",
       "</div>"
      ],
      "text/plain": [
       "                            mpg  cylinders  displacement  horsepower  weight  \\\n",
       "name                                                                           \n",
       "chevrolet chevelle malibu  18.0          8         307.0       130.0    3504   \n",
       "buick skylark 320          15.0          8         350.0       165.0    3693   \n",
       "plymouth satellite         18.0          8         318.0       150.0    3436   \n",
       "amc rebel sst              16.0          8         304.0       150.0    3433   \n",
       "ford torino                17.0          8         302.0       140.0    3449   \n",
       "...                         ...        ...           ...         ...     ...   \n",
       "ford mustang gl            27.0          4         140.0        86.0    2790   \n",
       "vw pickup                  44.0          4          97.0        52.0    2130   \n",
       "dodge rampage              32.0          4         135.0        84.0    2295   \n",
       "ford ranger                28.0          4         120.0        79.0    2625   \n",
       "chevy s-10                 31.0          4         119.0        82.0    2720   \n",
       "\n",
       "                           acceleration  model_year  origin  \n",
       "name                                                         \n",
       "chevrolet chevelle malibu          12.0          70     usa  \n",
       "buick skylark 320                  11.5          70     usa  \n",
       "plymouth satellite                 11.0          70     usa  \n",
       "amc rebel sst                      12.0          70     usa  \n",
       "ford torino                        10.5          70     usa  \n",
       "...                                 ...         ...     ...  \n",
       "ford mustang gl                    15.6          82     usa  \n",
       "vw pickup                          24.6          82  europe  \n",
       "dodge rampage                      11.6          82     usa  \n",
       "ford ranger                        18.6          82     usa  \n",
       "chevy s-10                         19.4          82     usa  \n",
       "\n",
       "[392 rows x 8 columns]"
      ]
     },
     "execution_count": 24,
     "metadata": {},
     "output_type": "execute_result"
    }
   ],
   "source": [
    "import pandas as pd\n",
    "\n",
    "df = pd.read_csv('../../data/cars.csv', index_col=0)\n",
    "df"
   ]
  },
  {
   "cell_type": "code",
   "execution_count": 25,
   "id": "098c233b",
   "metadata": {},
   "outputs": [],
   "source": [
    "options = {}\n",
    "\n",
    "for feature in feature_names:\n",
    "    options[feature] = df[feature].mean()"
   ]
  },
  {
   "cell_type": "code",
   "execution_count": 26,
   "id": "9d15e261",
   "metadata": {},
   "outputs": [
    {
     "data": {
      "text/plain": [
       "{'displacement': 194.41198979591837,\n",
       " 'horsepower': 104.46938775510205,\n",
       " 'weight': 2977.5841836734694,\n",
       " 'acceleration': 15.541326530612244,\n",
       " 'model_year': 75.9795918367347}"
      ]
     },
     "execution_count": 26,
     "metadata": {},
     "output_type": "execute_result"
    }
   ],
   "source": [
    "options"
   ]
  },
  {
   "cell_type": "markdown",
   "id": "8566b15d",
   "metadata": {},
   "source": [
    "### Export options to file"
   ]
  },
  {
   "cell_type": "code",
   "execution_count": 27,
   "id": "33c0e593",
   "metadata": {},
   "outputs": [],
   "source": [
    "import json\n",
    "\n",
    "with open('../../artifacts/options_numerical.json', 'w') as file:\n",
    "    json.dump(options, file, indent=4)"
   ]
  },
  {
   "cell_type": "code",
   "execution_count": null,
   "id": "3317c823",
   "metadata": {},
   "outputs": [],
   "source": []
  },
  {
   "cell_type": "code",
   "execution_count": null,
   "id": "5445c8d1",
   "metadata": {},
   "outputs": [],
   "source": []
  }
 ],
 "metadata": {
  "kernelspec": {
   "display_name": "work",
   "language": "python",
   "name": "python3"
  },
  "language_info": {
   "codemirror_mode": {
    "name": "ipython",
    "version": 3
   },
   "file_extension": ".py",
   "mimetype": "text/x-python",
   "name": "python",
   "nbconvert_exporter": "python",
   "pygments_lexer": "ipython3",
   "version": "3.11.4"
  },
  "papermill": {
   "default_parameters": {},
   "duration": 1.458762,
   "end_time": "2024-05-10T12:10:24.957490",
   "environment_variables": {},
   "exception": null,
   "input_path": "/Users/sota/Dropbox/2 Business/1 Datons/2 Areas/Courses/03 ML/materials/notebooks/50_Model Deployment/02_Web Calculator/B.ipynb",
   "output_path": "/Users/sota/Dropbox/2 Business/1 Datons/2 Areas/Courses/03 ML/materials/notebooks/50_Model Deployment/02_Web Calculator/B.ipynb",
   "parameters": {},
   "start_time": "2024-05-10T12:10:23.498728",
   "version": "2.5.0"
  }
 },
 "nbformat": 4,
 "nbformat_minor": 5
}
