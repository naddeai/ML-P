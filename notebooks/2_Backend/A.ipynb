{
 "cells": [
  {
   "cell_type": "markdown",
   "id": "827542c3",
   "metadata": {
    "papermill": {
     "duration": 0.003258,
     "end_time": "2024-05-10T12:09:25.629666",
     "exception": false,
     "start_time": "2024-05-10T12:09:25.626408",
     "status": "completed"
    },
    "tags": []
   },
   "source": [
    "# Portable models to calculate predictions anywhere"
   ]
  },
  {
   "cell_type": "markdown",
   "id": "2789431f",
   "metadata": {
    "papermill": {
     "duration": 0.001685,
     "end_time": "2024-05-10T12:09:25.633849",
     "exception": false,
     "start_time": "2024-05-10T12:09:25.632164",
     "status": "completed"
    },
    "tags": []
   },
   "source": [
    "## Input data to predict"
   ]
  },
  {
   "cell_type": "code",
   "execution_count": 14,
   "id": "032eda6b",
   "metadata": {
    "execution": {
     "iopub.execute_input": "2024-05-10T12:09:25.644563Z",
     "iopub.status.busy": "2024-05-10T12:09:25.644424Z",
     "iopub.status.idle": "2024-05-10T12:09:25.651457Z",
     "shell.execute_reply": "2024-05-10T12:09:25.651117Z"
    },
    "papermill": {
     "duration": 0.009596,
     "end_time": "2024-05-10T12:09:25.652503",
     "exception": false,
     "start_time": "2024-05-10T12:09:25.642907",
     "status": "completed"
    },
    "tags": []
   },
   "outputs": [],
   "source": [
    "form_data = {\n",
    "    'cylinders': '6',\n",
    "    'displacement': 304,\n",
    "    'horsepower': 140,\n",
    "    'weight': 2500,\n",
    "    'acceleration': 10.5,\n",
    "    'model_year': 90,\n",
    "    'origin': 'europe'\n",
    "}"
   ]
  },
  {
   "cell_type": "markdown",
   "id": "6e158b81",
   "metadata": {
    "papermill": {
     "duration": 0.001063,
     "end_time": "2024-05-10T12:09:25.654805",
     "exception": false,
     "start_time": "2024-05-10T12:09:25.653742",
     "status": "completed"
    },
    "tags": []
   },
   "source": [
    "## Load model from previous lesson"
   ]
  },
  {
   "cell_type": "code",
   "execution_count": 15,
   "id": "caae07e1",
   "metadata": {
    "execution": {
     "iopub.execute_input": "2024-05-10T12:09:25.657804Z",
     "iopub.status.busy": "2024-05-10T12:09:25.657667Z",
     "iopub.status.idle": "2024-05-10T12:09:25.956169Z",
     "shell.execute_reply": "2024-05-10T12:09:25.955763Z"
    },
    "papermill": {
     "duration": 0.301244,
     "end_time": "2024-05-10T12:09:25.957234",
     "exception": false,
     "start_time": "2024-05-10T12:09:25.655990",
     "status": "completed"
    },
    "tags": []
   },
   "outputs": [],
   "source": [
    "import pickle\n",
    "\n",
    "path = '../../artifacts/pipeline_mpg.pkl'\n",
    "\n",
    "with open(path, 'rb') as file:\n",
    "    pipeline = pickle.load(file)"
   ]
  },
  {
   "cell_type": "markdown",
   "id": "188b5fa7",
   "metadata": {
    "papermill": {
     "duration": 0.000923,
     "end_time": "2024-05-10T12:09:25.959371",
     "exception": false,
     "start_time": "2024-05-10T12:09:25.958448",
     "status": "completed"
    },
    "tags": []
   },
   "source": [
    "## Calculate the prediction"
   ]
  },
  {
   "cell_type": "code",
   "execution_count": 16,
   "id": "300a9163",
   "metadata": {
    "execution": {
     "iopub.execute_input": "2024-05-10T12:09:25.961638Z",
     "iopub.status.busy": "2024-05-10T12:09:25.961483Z",
     "iopub.status.idle": "2024-05-10T12:09:25.965893Z",
     "shell.execute_reply": "2024-05-10T12:09:25.965703Z"
    },
    "papermill": {
     "duration": 0.006279,
     "end_time": "2024-05-10T12:09:25.966537",
     "exception": false,
     "start_time": "2024-05-10T12:09:25.960258",
     "status": "completed"
    },
    "tags": []
   },
   "outputs": [
    {
     "data": {
      "text/html": [
       "<div>\n",
       "<style scoped>\n",
       "    .dataframe tbody tr th:only-of-type {\n",
       "        vertical-align: middle;\n",
       "    }\n",
       "\n",
       "    .dataframe tbody tr th {\n",
       "        vertical-align: top;\n",
       "    }\n",
       "\n",
       "    .dataframe thead th {\n",
       "        text-align: right;\n",
       "    }\n",
       "</style>\n",
       "<table border=\"1\" class=\"dataframe\">\n",
       "  <thead>\n",
       "    <tr style=\"text-align: right;\">\n",
       "      <th></th>\n",
       "      <th>cylinders</th>\n",
       "      <th>displacement</th>\n",
       "      <th>horsepower</th>\n",
       "      <th>weight</th>\n",
       "      <th>acceleration</th>\n",
       "      <th>model_year</th>\n",
       "      <th>origin</th>\n",
       "    </tr>\n",
       "  </thead>\n",
       "  <tbody>\n",
       "    <tr>\n",
       "      <th>Coche</th>\n",
       "      <td>6</td>\n",
       "      <td>304</td>\n",
       "      <td>140</td>\n",
       "      <td>2500</td>\n",
       "      <td>10.5</td>\n",
       "      <td>90</td>\n",
       "      <td>europe</td>\n",
       "    </tr>\n",
       "  </tbody>\n",
       "</table>\n",
       "</div>"
      ],
      "text/plain": [
       "      cylinders  displacement  horsepower  weight  acceleration  model_year  \\\n",
       "Coche         6           304         140    2500          10.5          90   \n",
       "\n",
       "       origin  \n",
       "Coche  europe  "
      ]
     },
     "execution_count": 16,
     "metadata": {},
     "output_type": "execute_result"
    }
   ],
   "source": [
    "import pandas as pd\n",
    "\n",
    "name = 'Coche'\n",
    "df_input = pd.DataFrame(form_data, index=[name])\n",
    "df_input"
   ]
  },
  {
   "cell_type": "code",
   "execution_count": 17,
   "id": "bd884953",
   "metadata": {
    "execution": {
     "iopub.execute_input": "2024-05-10T12:09:25.968372Z",
     "iopub.status.busy": "2024-05-10T12:09:25.968281Z",
     "iopub.status.idle": "2024-05-10T12:09:25.972016Z",
     "shell.execute_reply": "2024-05-10T12:09:25.971827Z"
    },
    "papermill": {
     "duration": 0.005389,
     "end_time": "2024-05-10T12:09:25.972648",
     "exception": false,
     "start_time": "2024-05-10T12:09:25.967259",
     "status": "completed"
    },
    "tags": []
   },
   "outputs": [
    {
     "data": {
      "text/plain": [
       "array([25.66769962])"
      ]
     },
     "execution_count": 17,
     "metadata": {},
     "output_type": "execute_result"
    }
   ],
   "source": [
    "pipeline.predict(df_input)"
   ]
  },
  {
   "cell_type": "code",
   "execution_count": null,
   "id": "2eaa1dcf",
   "metadata": {},
   "outputs": [],
   "source": []
  }
 ],
 "metadata": {
  "kernelspec": {
   "display_name": "work",
   "language": "python",
   "name": "python3"
  },
  "language_info": {
   "codemirror_mode": {
    "name": "ipython",
    "version": 3
   },
   "file_extension": ".py",
   "mimetype": "text/x-python",
   "name": "python",
   "nbconvert_exporter": "python",
   "pygments_lexer": "ipython3",
   "version": "3.11.4"
  },
  "papermill": {
   "default_parameters": {},
   "duration": 1.505661,
   "end_time": "2024-05-10T12:09:26.195262",
   "environment_variables": {},
   "exception": null,
   "input_path": "/Users/sota/Dropbox/2 Business/1 Datons/2 Areas/Courses/03 ML/materials/notebooks/50_Model Deployment/01_Export/B.ipynb",
   "output_path": "/Users/sota/Dropbox/2 Business/1 Datons/2 Areas/Courses/03 ML/materials/notebooks/50_Model Deployment/01_Export/B.ipynb",
   "parameters": {},
   "start_time": "2024-05-10T12:09:24.689601",
   "version": "2.5.0"
  }
 },
 "nbformat": 4,
 "nbformat_minor": 5
}
